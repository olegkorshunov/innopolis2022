{
 "cells": [
  {
   "cell_type": "code",
   "execution_count": 1,
   "id": "c45945c8",
   "metadata": {},
   "outputs": [
    {
     "name": "stdout",
     "output_type": "stream",
     "text": [
      "droped: 120\n"
     ]
    }
   ],
   "source": [
    "import datetime\n",
    "import gc\n",
    "import os\n",
    "import warnings\n",
    "warnings.filterwarnings(\"ignore\")\n",
    "import random\n",
    "from collections import defaultdict\n",
    "from tqdm import tqdm\n",
    "\n",
    "import matplotlib.pyplot as plt\n",
    "import numpy as np\n",
    "import pandas as pd\n",
    "import seaborn as sns\n",
    "from catboost import Pool, cv\n",
    "from imblearn.over_sampling import SMOTE\n",
    "from sklearn import preprocessing\n",
    "from sklearn.metrics import confusion_matrix, precision_score, recall_score,make_scorer,f1_score\n",
    "from sklearn.model_selection import KFold, train_test_split\n",
    "\n",
    "from lightgbm import LGBMClassifier,Dataset\n",
    "from sklearn.model_selection import GridSearchCV\n",
    "\n",
    "from dataclasses import dataclass\n",
    "\n",
    "\n",
    "%matplotlib inline\n",
    "path_dir=os.getcwd()\n",
    "path_train='../train_dataset_train.csv'\n",
    "path_test='../test_dataset_test.csv'\n",
    "path_subm='../Иннополис/sample_solution.csv'\n",
    "\n",
    "@dataclass\n",
    "class Config:\n",
    "    RS: int = 42\n",
    "    treshold: float = 0.0\n",
    "    device='cuda:0'\n",
    "    num_epochs: int = 120\n",
    "    batch_size: int = 256\n",
    "    num_workers: int = 2\n",
    "        \n",
    "def get_df(path,train=True,drp=0):\n",
    "    df=pd.read_csv(path)\n",
    "    df=df.sort_index(axis=1)\n",
    "    df.drop(['id','.geo','area'],axis=1,inplace=True)\n",
    "    if train:\n",
    "       # df=df.loc[df.crop.isin([0,4])]\n",
    "        df.reset_index(drop=True,inplace=True) \n",
    "        ##    \n",
    "        drop04=[19,223,541,432,598,469],\n",
    "        drp=list(set(drop04))\n",
    "        print(f'droped: {len(drp)}')\n",
    "        df.drop(drp,axis=0,inplace=True)          \n",
    "        y=df[['crop']]\n",
    "        df.drop(['crop'],axis=1,inplace=True)  \n",
    "    \n",
    "   # df.rename({c:pd.to_datetime(c.replace('nd_mean_','')) for c in df.columns},axis=1,inplace=True) \n",
    "    df[df<=0]=0    \n",
    "    return (df.reset_index(drop=True),y.crop.reset_index(drop=True).values) if train else df.reset_index(drop=True)\n",
    "\n",
    "X_train,y_train=get_df(path_train)\n",
    "X_test=get_df(path_test,False)\n",
    "df_subm=pd.read_csv(path_subm,index_col='id')"
   ]
  },
  {
   "cell_type": "code",
   "execution_count": 2,
   "id": "cf1b33f8",
   "metadata": {},
   "outputs": [
    {
     "data": {
      "text/plain": [
       "array([6], dtype=int64)"
      ]
     },
     "execution_count": 2,
     "metadata": {},
     "output_type": "execute_result"
    }
   ],
   "source": [
    "y_train[[1805]]#=0"
   ]
  },
  {
   "cell_type": "code",
   "execution_count": 3,
   "id": "3284c4f6",
   "metadata": {},
   "outputs": [],
   "source": [
    "params={      \n",
    "    'boosting_type':'gbdt',#'gbdt',#'dart',\n",
    "    'class_weight':'balanced',   \n",
    "    'objective': 'multiclass',  \n",
    "   # 'learning_rate':0.20,\n",
    "    'random_seed':42,\n",
    "    #'iteration':700,\n",
    "    #'max_depth':5,#\n",
    "   # 'min_data_in_leaf':79,#79,57\n",
    "   # 'lambda_l2': 3,\n",
    "}\n",
    "# params={\n",
    "#  'class_weight':'balanced',   \n",
    "#  'objective': 'multiclass',     \n",
    "#  'feature_fraction': 0.45,\n",
    "#  'bagging_fraction': 0.7,\n",
    "#  'bagging_freq': 5,\n",
    "#  'min_child_samples': 44,\n",
    "#  'n_estimators': 1600,\n",
    "#  'learning_rate': 0.16686393584936493,\n",
    "#  'min_data_in_leaf': 150,\n",
    "#  'lambda_l1': 0.022838066447584147,\n",
    "#  'lambda_l2': 0.0002581454840728029,\n",
    "#  'min_gain_to_split': 2.302100113694354,\n",
    "#  'max_bin': 230}\n",
    "model_lightgbm=LGBMClassifier(**params)"
   ]
  },
  {
   "cell_type": "code",
   "execution_count": 4,
   "id": "36fcedcf",
   "metadata": {},
   "outputs": [
    {
     "name": "stdout",
     "output_type": "stream",
     "text": [
      "droped: 120\n"
     ]
    }
   ],
   "source": [
    "avg_res=[]\n",
    "\n",
    "\n",
    "X_train,y_train=get_df(path_train,train=True)\n",
    "FOLDS=5\n",
    "kfolds = KFold(n_splits=FOLDS)\n",
    "\n",
    "drpt_res=dict()\n",
    "#t=tqdm(np.round(np.arange(0.1,0.8,0.05),2))\n",
    "result={'recall':[],'cm':[],'epochs_loss':[]}\n",
    "splits = kfolds.split(X_train,y_train)    \n",
    "errors=defaultdict(lambda: defaultdict(lambda: 0))   \n",
    "for fld,(train_index, valid_index) in enumerate(splits):    \n",
    "    X_tr, X_val = X_train.values[train_index], X_train.values[valid_index]\n",
    "    y_tr, y_val = y_train[train_index], y_train[valid_index]    \n",
    "\n",
    "    model_lightgbm=LGBMClassifier(**params)\n",
    "    model_lightgbm.fit(X_tr,y_tr)\n",
    "\n",
    "    y_val_pred=model_lightgbm.predict(X_val)\n",
    "\n",
    "    recall=recall_score(y_true=y_val,y_pred=y_val_pred,average='macro')\n",
    "    cm=confusion_matrix(y_true=y_val,y_pred=y_val_pred)\n",
    "    result['recall'].append(recall)\n",
    "    result['cm'].append(cm)\n",
    "avg_res.append([sum(result['recall'])/FOLDS,np.round(sum(result['cm'])/FOLDS,0)])\n"
   ]
  },
  {
   "cell_type": "code",
   "execution_count": 5,
   "id": "a279c985",
   "metadata": {},
   "outputs": [
    {
     "data": {
      "text/plain": [
       "[[0.9614087326169896,\n",
       "  array([[120.,   0.,   2.,   0.,   2.,   0.,   7.],\n",
       "         [  0., 139.,   0.,   0.,   1.,   0.,   0.],\n",
       "         [  1.,   0., 136.,   0.,   2.,   0.,   1.],\n",
       "         [  0.,   0.,   0., 131.,   0.,   0.,   0.],\n",
       "         [  6.,   1.,   1.,   0., 123.,   0.,   3.],\n",
       "         [  0.,   0.,   0.,   0.,   0., 133.,   0.],\n",
       "         [  6.,   0.,   1.,   0.,   2.,   0., 124.]])]]"
      ]
     },
     "execution_count": 5,
     "metadata": {},
     "output_type": "execute_result"
    }
   ],
   "source": [
    "avg_res#0.9651569930528467"
   ]
  },
  {
   "cell_type": "code",
   "execution_count": 6,
   "id": "1e522263",
   "metadata": {},
   "outputs": [
    {
     "name": "stdout",
     "output_type": "stream",
     "text": [
      "droped: 120\n"
     ]
    },
    {
     "data": {
      "text/html": [
       "<style>#sk-container-id-1 {color: black;background-color: white;}#sk-container-id-1 pre{padding: 0;}#sk-container-id-1 div.sk-toggleable {background-color: white;}#sk-container-id-1 label.sk-toggleable__label {cursor: pointer;display: block;width: 100%;margin-bottom: 0;padding: 0.3em;box-sizing: border-box;text-align: center;}#sk-container-id-1 label.sk-toggleable__label-arrow:before {content: \"▸\";float: left;margin-right: 0.25em;color: #696969;}#sk-container-id-1 label.sk-toggleable__label-arrow:hover:before {color: black;}#sk-container-id-1 div.sk-estimator:hover label.sk-toggleable__label-arrow:before {color: black;}#sk-container-id-1 div.sk-toggleable__content {max-height: 0;max-width: 0;overflow: hidden;text-align: left;background-color: #f0f8ff;}#sk-container-id-1 div.sk-toggleable__content pre {margin: 0.2em;color: black;border-radius: 0.25em;background-color: #f0f8ff;}#sk-container-id-1 input.sk-toggleable__control:checked~div.sk-toggleable__content {max-height: 200px;max-width: 100%;overflow: auto;}#sk-container-id-1 input.sk-toggleable__control:checked~label.sk-toggleable__label-arrow:before {content: \"▾\";}#sk-container-id-1 div.sk-estimator input.sk-toggleable__control:checked~label.sk-toggleable__label {background-color: #d4ebff;}#sk-container-id-1 div.sk-label input.sk-toggleable__control:checked~label.sk-toggleable__label {background-color: #d4ebff;}#sk-container-id-1 input.sk-hidden--visually {border: 0;clip: rect(1px 1px 1px 1px);clip: rect(1px, 1px, 1px, 1px);height: 1px;margin: -1px;overflow: hidden;padding: 0;position: absolute;width: 1px;}#sk-container-id-1 div.sk-estimator {font-family: monospace;background-color: #f0f8ff;border: 1px dotted black;border-radius: 0.25em;box-sizing: border-box;margin-bottom: 0.5em;}#sk-container-id-1 div.sk-estimator:hover {background-color: #d4ebff;}#sk-container-id-1 div.sk-parallel-item::after {content: \"\";width: 100%;border-bottom: 1px solid gray;flex-grow: 1;}#sk-container-id-1 div.sk-label:hover label.sk-toggleable__label {background-color: #d4ebff;}#sk-container-id-1 div.sk-serial::before {content: \"\";position: absolute;border-left: 1px solid gray;box-sizing: border-box;top: 0;bottom: 0;left: 50%;z-index: 0;}#sk-container-id-1 div.sk-serial {display: flex;flex-direction: column;align-items: center;background-color: white;padding-right: 0.2em;padding-left: 0.2em;position: relative;}#sk-container-id-1 div.sk-item {position: relative;z-index: 1;}#sk-container-id-1 div.sk-parallel {display: flex;align-items: stretch;justify-content: center;background-color: white;position: relative;}#sk-container-id-1 div.sk-item::before, #sk-container-id-1 div.sk-parallel-item::before {content: \"\";position: absolute;border-left: 1px solid gray;box-sizing: border-box;top: 0;bottom: 0;left: 50%;z-index: -1;}#sk-container-id-1 div.sk-parallel-item {display: flex;flex-direction: column;z-index: 1;position: relative;background-color: white;}#sk-container-id-1 div.sk-parallel-item:first-child::after {align-self: flex-end;width: 50%;}#sk-container-id-1 div.sk-parallel-item:last-child::after {align-self: flex-start;width: 50%;}#sk-container-id-1 div.sk-parallel-item:only-child::after {width: 0;}#sk-container-id-1 div.sk-dashed-wrapped {border: 1px dashed gray;margin: 0 0.4em 0.5em 0.4em;box-sizing: border-box;padding-bottom: 0.4em;background-color: white;}#sk-container-id-1 div.sk-label label {font-family: monospace;font-weight: bold;display: inline-block;line-height: 1.2em;}#sk-container-id-1 div.sk-label-container {text-align: center;}#sk-container-id-1 div.sk-container {/* jupyter's `normalize.less` sets `[hidden] { display: none; }` but bootstrap.min.css set `[hidden] { display: none !important; }` so we also need the `!important` here to be able to override the default hidden behavior on the sphinx rendered scikit-learn.org. See: https://github.com/scikit-learn/scikit-learn/issues/21755 */display: inline-block !important;position: relative;}#sk-container-id-1 div.sk-text-repr-fallback {display: none;}</style><div id=\"sk-container-id-1\" class=\"sk-top-container\"><div class=\"sk-text-repr-fallback\"><pre>LGBMClassifier(class_weight=&#x27;balanced&#x27;, objective=&#x27;multiclass&#x27;, random_seed=42)</pre><b>In a Jupyter environment, please rerun this cell to show the HTML representation or trust the notebook. <br />On GitHub, the HTML representation is unable to render, please try loading this page with nbviewer.org.</b></div><div class=\"sk-container\" hidden><div class=\"sk-item\"><div class=\"sk-estimator sk-toggleable\"><input class=\"sk-toggleable__control sk-hidden--visually\" id=\"sk-estimator-id-1\" type=\"checkbox\" checked><label for=\"sk-estimator-id-1\" class=\"sk-toggleable__label sk-toggleable__label-arrow\">LGBMClassifier</label><div class=\"sk-toggleable__content\"><pre>LGBMClassifier(class_weight=&#x27;balanced&#x27;, objective=&#x27;multiclass&#x27;, random_seed=42)</pre></div></div></div></div></div>"
      ],
      "text/plain": [
       "LGBMClassifier(class_weight='balanced', objective='multiclass', random_seed=42)"
      ]
     },
     "execution_count": 6,
     "metadata": {},
     "output_type": "execute_result"
    }
   ],
   "source": [
    "X_train,y_train=get_df(path_train)\n",
    "model_lightgbm.fit(X_train,y_train)"
   ]
  },
  {
   "cell_type": "code",
   "execution_count": 7,
   "id": "46a21d68",
   "metadata": {},
   "outputs": [
    {
     "data": {
      "text/html": [
       "<div>\n",
       "<style scoped>\n",
       "    .dataframe tbody tr th:only-of-type {\n",
       "        vertical-align: middle;\n",
       "    }\n",
       "\n",
       "    .dataframe tbody tr th {\n",
       "        vertical-align: top;\n",
       "    }\n",
       "\n",
       "    .dataframe thead th {\n",
       "        text-align: right;\n",
       "    }\n",
       "</style>\n",
       "<table border=\"1\" class=\"dataframe\">\n",
       "  <thead>\n",
       "    <tr style=\"text-align: right;\">\n",
       "      <th></th>\n",
       "      <th>crop</th>\n",
       "    </tr>\n",
       "    <tr>\n",
       "      <th>id</th>\n",
       "      <th></th>\n",
       "    </tr>\n",
       "  </thead>\n",
       "  <tbody>\n",
       "    <tr>\n",
       "      <th>611</th>\n",
       "      <td>3</td>\n",
       "    </tr>\n",
       "    <tr>\n",
       "      <th>6417</th>\n",
       "      <td>2</td>\n",
       "    </tr>\n",
       "    <tr>\n",
       "      <th>3352</th>\n",
       "      <td>3</td>\n",
       "    </tr>\n",
       "    <tr>\n",
       "      <th>4224</th>\n",
       "      <td>1</td>\n",
       "    </tr>\n",
       "    <tr>\n",
       "      <th>3102</th>\n",
       "      <td>6</td>\n",
       "    </tr>\n",
       "  </tbody>\n",
       "</table>\n",
       "</div>"
      ],
      "text/plain": [
       "      crop\n",
       "id        \n",
       "611      3\n",
       "6417     2\n",
       "3352     3\n",
       "4224     1\n",
       "3102     6"
      ]
     },
     "execution_count": 7,
     "metadata": {},
     "output_type": "execute_result"
    }
   ],
   "source": [
    "y_test_pred = model_lightgbm.predict(X_test)\n",
    "\n",
    "df_subm.crop=y_test_pred\n",
    "df_subm.head()\n"
   ]
  },
  {
   "cell_type": "code",
   "execution_count": 10,
   "id": "0dbb60fd",
   "metadata": {},
   "outputs": [],
   "source": [
    "df_subm.to_csv(f'my_submission_LS.csv')"
   ]
  },
  {
   "cell_type": "code",
   "execution_count": 11,
   "id": "ee6d4809",
   "metadata": {},
   "outputs": [
    {
     "data": {
      "text/plain": [
       "{'boosting_type': 'gbdt',\n",
       " 'class_weight': 'balanced',\n",
       " 'colsample_bytree': 1.0,\n",
       " 'importance_type': 'split',\n",
       " 'learning_rate': 0.1,\n",
       " 'max_depth': -1,\n",
       " 'min_child_samples': 20,\n",
       " 'min_child_weight': 0.001,\n",
       " 'min_split_gain': 0.0,\n",
       " 'n_estimators': 100,\n",
       " 'n_jobs': -1,\n",
       " 'num_leaves': 31,\n",
       " 'objective': 'multiclass',\n",
       " 'random_state': None,\n",
       " 'reg_alpha': 0.0,\n",
       " 'reg_lambda': 0.0,\n",
       " 'silent': 'warn',\n",
       " 'subsample': 1.0,\n",
       " 'subsample_for_bin': 200000,\n",
       " 'subsample_freq': 0,\n",
       " 'random_seed': 42}"
      ]
     },
     "execution_count": 11,
     "metadata": {},
     "output_type": "execute_result"
    }
   ],
   "source": [
    "model_lightgbm.get_params()"
   ]
  },
  {
   "cell_type": "code",
   "execution_count": null,
   "id": "0f1cdc8e",
   "metadata": {},
   "outputs": [],
   "source": []
  },
  {
   "cell_type": "code",
   "execution_count": null,
   "id": "3d3c2c66",
   "metadata": {},
   "outputs": [],
   "source": []
  },
  {
   "cell_type": "code",
   "execution_count": null,
   "id": "2d648f0c",
   "metadata": {},
   "outputs": [],
   "source": []
  }
 ],
 "metadata": {
  "kernelspec": {
   "display_name": "Python 3 (ipykernel)",
   "language": "python",
   "name": "python3"
  },
  "language_info": {
   "codemirror_mode": {
    "name": "ipython",
    "version": 3
   },
   "file_extension": ".py",
   "mimetype": "text/x-python",
   "name": "python",
   "nbconvert_exporter": "python",
   "pygments_lexer": "ipython3",
   "version": "3.8.13"
  }
 },
 "nbformat": 4,
 "nbformat_minor": 5
}
