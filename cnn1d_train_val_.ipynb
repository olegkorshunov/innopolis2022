{
 "cells": [
  {
   "cell_type": "code",
   "execution_count": 1,
   "metadata": {},
   "outputs": [],
   "source": [
    "import random\n",
    "from collections import defaultdict\n",
    "from copy import deepcopy\n",
    "\n",
    "import numpy as np\n",
    "import torch\n",
    "import matplotlib.pyplot as plt\n",
    "from imblearn.over_sampling import SMOTE\n",
    "from sklearn.metrics import confusion_matrix\n",
    "from sklearn.model_selection import KFold\n",
    "from torch.utils.data import DataLoader, RandomSampler\n",
    "from tqdm import tqdm\n",
    "\n",
    "from cnn1d.config import Config\n",
    "from cnn1d.dataset import CustomDataset, get_df\n",
    "from cnn1d.train import get_recall, train_model\n",
    "\n",
    "import warnings\n",
    "warnings.filterwarnings(\"ignore\")"
   ]
  },
  {
   "cell_type": "code",
   "execution_count": 3,
   "metadata": {},
   "outputs": [],
   "source": [
    "def seed_everything(seed=42):\n",
    "    random.seed(seed)    \n",
    "    np.random.seed(seed)\n",
    "    torch.manual_seed(seed)\n",
    "    torch.cuda.manual_seed(seed)\n",
    "    torch.backends.cudnn.deterministic = True\n",
    "seed_everything()\n",
    "\n",
    "\n",
    "\n",
    "X_train,y_train=get_df(Config.path_train)\n",
    "#columns=X_train.columns\n",
    "FOLDS=5\n",
    "kfolds = KFold(n_splits=FOLDS)\n",
    "\n",
    "drpt_res=dict()\n",
    "#t=tqdm(np.round(np.arange(0.1,0.8,0.05),2))\n",
    "result={'recall':[],'cm':[]}\n",
    "#for drpt in t:\n",
    "drpt=0.5\n",
    "k=0\n",
    "splits = kfolds.split(X_train,y_train)    \n",
    "errors=defaultdict(lambda: defaultdict(lambda: 0))   \n",
    "t=tqdm(list(splits))\n",
    "for train_index, valid_index in t:    \n",
    "    X_tr, X_val = X_train[train_index], X_train[valid_index]\n",
    "    y_tr, y_val = y_train[train_index], y_train[valid_index]    \n",
    "\n",
    "    labels,counts=np.unique(y_tr, return_counts=True)\n",
    "    _max=np.max(counts)*2\n",
    "    sampling_strategy={label:_max  for label in labels }#if label==0 else int(_max+_max*0.4)\n",
    "    smote = SMOTE(random_state=42, sampling_strategy=sampling_strategy, n_jobs=-1)  \n",
    "    X_tr, y_tr = smote.fit_resample(X_tr, y_tr)\n",
    "\n",
    "    dataset_train=CustomDataset(X_tr,y_tr,'Train',True)\n",
    "    dataset_val=CustomDataset(X_val,y_val,'Val',False)\n",
    "\n",
    "    dataloader_train = DataLoader(dataset_train, batch_size=128, sampler=RandomSampler(dataset_train),\n",
    "                                  shuffle=False, num_workers=0, pin_memory=True)    \n",
    "    dataloader_val = DataLoader(dataset_val, batch_size=128, shuffle=False, num_workers=0, pin_memory=True)    \n",
    "    \n",
    "    model,epochs_loss=train_model(drpt,dataloader_train,dataloader_val);\n",
    "    \n",
    "    recall,y_pred_valid = get_recall(model, dataloader_val)\n",
    "    cm=confusion_matrix(y_true=y_val,y_pred=y_pred_valid)\n",
    "    result['recall'].append(recall)\n",
    "    result['cm'].append(cm)\n",
    "    \n",
    "    dataloader_train = DataLoader(dataset_train, batch_size=128, shuffle=False, num_workers=0, pin_memory=True)\n",
    "    t.set_postfix(avg_recall=result['recall']) \n",
    "    #[tensor(0.9576), tensor(0.9545), tensor(0.9596), tensor(0.9545), tensor(0.9513)]]"
   ]
  },
  {
   "cell_type": "code",
   "execution_count": null,
   "metadata": {},
   "outputs": [
    {
     "name": "stdout",
     "output_type": "stream",
     "text": [
      "tensor(0.9499)\n",
      "[[127.2   0.2   1.6   0.    6.2   0.2   9.8]\n",
      " [  0.2 139.2   0.    0.    0.4   0.    0.2]\n",
      " [  1.2   0.  135.2   0.    2.    0.2   0.8]\n",
      " [  0.    0.    0.  130.8   0.    0.2   0. ]\n",
      " [  4.2   1.    1.6   0.  133.4   0.    3.4]\n",
      " [  0.2   0.2   0.2   0.    0.  133.    0. ]\n",
      " [  8.6   0.4   1.    0.    4.4   0.  118.8]]\n"
     ]
    }
   ],
   "source": [
    "print(sum(result['recall'])/FOLDS)\n",
    "print(sum(result['cm'])/FOLDS)"
   ]
  },
  {
   "cell_type": "code",
   "execution_count": null,
   "metadata": {},
   "outputs": [],
   "source": []
  },
  {
   "cell_type": "code",
   "execution_count": null,
   "metadata": {},
   "outputs": [],
   "source": []
  }
 ],
 "metadata": {
  "kernelspec": {
   "display_name": "Python 3.8.13 ('py38dl')",
   "language": "python",
   "name": "python3"
  },
  "language_info": {
   "codemirror_mode": {
    "name": "ipython",
    "version": 3
   },
   "file_extension": ".py",
   "mimetype": "text/x-python",
   "name": "python",
   "nbconvert_exporter": "python",
   "pygments_lexer": "ipython3",
   "version": "3.8.13"
  },
  "orig_nbformat": 4,
  "vscode": {
   "interpreter": {
    "hash": "aa7b17b3d2e25d62fb59d89e9f7d3c178175e1f697b7aeeb95820fb257661bd1"
   }
  }
 },
 "nbformat": 4,
 "nbformat_minor": 2
}
