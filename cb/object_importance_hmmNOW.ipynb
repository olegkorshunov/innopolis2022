{
 "cells": [
  {
   "cell_type": "code",
   "execution_count": 1,
   "metadata": {
    "id": "2zGCRcGzhTIB"
   },
   "outputs": [],
   "source": [
    "import warnings\n",
    "warnings.filterwarnings(\"ignore\")\n",
    "from dataclasses import dataclass\n",
    "\n",
    "import datetime\n",
    "import os\n",
    "\n",
    "import random\n",
    "from collections import defaultdict\n",
    "\n",
    "import catboost\n",
    "import matplotlib.pyplot as plt\n",
    "import numpy as np\n",
    "import pandas as pd\n",
    "import seaborn as sns\n",
    "from catboost import Pool, cv\n",
    "from sklearn.metrics import confusion_matrix, recall_score\n",
    "from sklearn.model_selection import KFold\n",
    "\n",
    "\n",
    "%matplotlib inline\n",
    "path_dir=os.getcwd()\n",
    "path_train='../train_dataset_train.csv'\n",
    "path_test='../test_dataset_test.csv'\n",
    "path_subm='../Иннополис/sample_solution.csv'\n",
    "\n",
    "COOOOLS=[0,4]\n",
    "def get_df(path,train=True):\n",
    "    df=pd.read_csv(path)\n",
    "    df=df.sort_index(axis=1)\n",
    "    df.drop(['id','.geo','area'],axis=1,inplace=True)\n",
    "    if train:\n",
    "        df=df.loc[df.crop.isin(COOOOLS)]\n",
    "        y=df[['crop']]\n",
    "        df.drop(['crop'],axis=1,inplace=True)  \n",
    "    \n",
    "    df.rename({c:pd.to_datetime(c.replace('nd_mean_','')) for c in df.columns},axis=1,inplace=True) \n",
    "    df[df<=0]=0    #0.971315\n",
    "    return (df.reset_index(drop=True).values,y.crop.reset_index(drop=True).values) if train else df.reset_index(drop=True).values"
   ]
  },
  {
   "cell_type": "code",
   "execution_count": 2,
   "metadata": {},
   "outputs": [],
   "source": [
    "def get_df_idx(path,train=True):\n",
    "    df=pd.read_csv(path)\n",
    "    df=df.sort_index(axis=1)\n",
    "    df.drop(['id','.geo','area'],axis=1,inplace=True)\n",
    "    if train:\n",
    "        df=df.loc[df.crop.isin(COOOOLS)]\n",
    "        y=df[['crop']]\n",
    "        df.drop(['crop'],axis=1,inplace=True)  \n",
    "    \n",
    "    df.rename({c:pd.to_datetime(c.replace('nd_mean_','')) for c in df.columns},axis=1,inplace=True) \n",
    "    df[df<=0]=0    #0.971315\n",
    "    return (df,y) if train else df\n",
    "X_train_idx,y_train_idx=get_df_idx(path_train)"
   ]
  },
  {
   "cell_type": "code",
   "execution_count": 3,
   "metadata": {},
   "outputs": [],
   "source": [
    "params_model={\n",
    "    'loss_function':'Logloss',\n",
    "    'random_seed':42,\n",
    "    'eval_metric':'Recall',\n",
    "    'bootstrap_type':'Bernoulli',#'Bayesian',#'Bernoulli',#'Poisson',\n",
    "    'l2_leaf_reg': 3,\n",
    "    'early_stopping_rounds':4,\n",
    "    'iterations':50,         \n",
    "     'verbose':False,\n",
    "    'depth': 2,\n",
    "    'learning_rate': 0.3,    \n",
    "}"
   ]
  },
  {
   "cell_type": "code",
   "execution_count": 4,
   "metadata": {},
   "outputs": [],
   "source": [
    "X_train,y_train=get_df(path_train)\n",
    "N=5\n",
    "kf=KFold(n_splits=N)\n",
    "splits=kf.split(X=X_train,y=y_train)\n",
    "result=dict()\n",
    "for i,(train_index, valid_index) in enumerate(splits): \n",
    "    train_pool = Pool(X_train[train_index], y_train[train_index])\n",
    "    validation_pool = Pool(X_train[valid_index], y_train[valid_index])\n",
    "    cb = catboost.CatBoostClassifier(**params_model)\n",
    "    cb.fit(train_pool);\n",
    "    \n",
    "    indices, scores = cb.get_object_importance(\n",
    "        train_pool,\n",
    "        validation_pool,        \n",
    "        importance_values_sign='Positive'#,97.4 #Negative,All    \n",
    "        #importance_values_sign='Negative',\n",
    "    )\n",
    "    result[i]={'indices':train_index[indices],'scores':scores}"
   ]
  },
  {
   "cell_type": "code",
   "execution_count": 5,
   "metadata": {},
   "outputs": [
    {
     "data": {
      "text/plain": [
       "(288,)"
      ]
     },
     "execution_count": 5,
     "metadata": {},
     "output_type": "execute_result"
    }
   ],
   "source": [
    "valid_index.shape"
   ]
  },
  {
   "cell_type": "code",
   "execution_count": 6,
   "metadata": {},
   "outputs": [],
   "source": [
    "res_summ=defaultdict(lambda :0)\n",
    "for _,val in result.items():\n",
    "    for i in range(len(val['indices'])):\n",
    "        res_summ[val['indices'][i]]+=val['scores'][i]"
   ]
  },
  {
   "cell_type": "code",
   "execution_count": 7,
   "metadata": {},
   "outputs": [
    {
     "data": {
      "text/plain": [
       "[<matplotlib.lines.Line2D at 0x2e2c1642340>]"
      ]
     },
     "execution_count": 7,
     "metadata": {},
     "output_type": "execute_result"
    },
    {
     "data": {
      "image/png": "[encoded data removed]",
      "text/plain": [
       "<Figure size 640x480 with 1 Axes>"
      ]
     },
     "metadata": {},
     "output_type": "display_data"
    }
   ],
   "source": [
    "res=sorted(list(res_summ.items()),key=lambda x:x[1],reverse=True)\n",
    "plt.plot([v for k,v in res[:10]])"
   ]
  },
  {
   "cell_type": "code",
   "execution_count": 8,
   "metadata": {},
   "outputs": [
    {
     "ename": "NameError",
     "evalue": "name 'dsadasda' is not defined",
     "output_type": "error",
     "traceback": [
      "\u001b[1;31m---------------------------------------------------------------------------\u001b[0m",
      "\u001b[1;31mNameError\u001b[0m                                 Traceback (most recent call last)",
      "Input \u001b[1;32mIn [8]\u001b[0m, in \u001b[0;36m<cell line: 1>\u001b[1;34m()\u001b[0m\n\u001b[1;32m----> 1\u001b[0m \u001b[43mdsadasda\u001b[49m\n",
      "\u001b[1;31mNameError\u001b[0m: name 'dsadasda' is not defined"
     ]
    }
   ],
   "source": [
    "dsadasda"
   ]
  },
  {
   "cell_type": "code",
   "execution_count": 12,
   "metadata": {},
   "outputs": [
    {
     "data": {
      "text/plain": [
       "[(130, 0.02534233390997364),\n",
       " (167, 0.020317302327780565),\n",
       " (64, 0.020270402449887648),\n",
       " (6, 0.02023077747443601),\n",
       " (119, 0.017085030046004555),\n",
       " (181, 0.01657631922635107),\n",
       " (263, 0.016516910180674967),\n",
       " (235, 0.015658610762552195),\n",
       " (133, 0.015535249158452532),\n",
       " (113, 0.015469204710872646),\n",
       " (152, 0.015339611411791713),\n",
       " (253, 0.015024926895511227),\n",
       " (140, 0.014560513789508586)]"
      ]
     },
     "execution_count": 12,
     "metadata": {},
     "output_type": "execute_result"
    }
   ],
   "source": [
    "res[:20][:13]"
   ]
  },
  {
   "cell_type": "code",
   "execution_count": 13,
   "metadata": {},
   "outputs": [],
   "source": [
    "IDX_=[k for k,_ in res]"
   ]
  },
  {
   "cell_type": "code",
   "execution_count": 14,
   "metadata": {},
   "outputs": [
    {
     "data": {
      "text/plain": [
       "Int64Index([469, 583, 223, 19, 432], dtype='int64')"
      ]
     },
     "execution_count": 14,
     "metadata": {},
     "output_type": "execute_result"
    }
   ],
   "source": [
    "IDX_RRR=X_train_idx.iloc[IDX_].index\n",
    "IDX_RRR[:5]"
   ]
  },
  {
   "cell_type": "code",
   "execution_count": null,
   "metadata": {},
   "outputs": [],
   "source": [
    "for i,j in enumerate(X_train_idx.iloc[IDX_].index[:120]):\n",
    "    print(j,end=',')\n",
    "    if (i+1)%10==0:\n",
    "        print()"
   ]
  },
  {
   "cell_type": "code",
   "execution_count": null,
   "metadata": {},
   "outputs": [],
   "source": [
    "##################"
   ]
  },
  {
   "cell_type": "code",
   "execution_count": null,
   "metadata": {},
   "outputs": [],
   "source": [
    "def get_df(path,train=True,drp=0):\n",
    "    df=pd.read_csv(path)\n",
    "    df=df.sort_index(axis=1)\n",
    "    df.drop(['id','.geo','area'],axis=1,inplace=True)\n",
    "    if train:\n",
    "        df=df.loc[df.crop.isin([0,4])]\n",
    "        df.reset_index(drop=True,inplace=True) \n",
    "        ##    \n",
    "        #drop06\n",
    "       # drp=list(set(drop06)\n",
    "       # print(f'droped: {len(drp)}')\n",
    "        df.drop(drp,axis=0,inplace=True)          \n",
    "        y=df[['crop']]\n",
    "        df.drop(['crop'],axis=1,inplace=True)  \n",
    "    \n",
    "   # df.rename({c:pd.to_datetime(c.replace('nd_mean_','')) for c in df.columns},axis=1,inplace=True) \n",
    "    df[df<=0]=0    \n",
    "    return (df.reset_index(drop=True),y.crop.reset_index(drop=True).values) if train else df.reset_index(drop=True)\n",
    "\n",
    "# X_train,y_train=get_df(path_train)\n",
    "# X_test=get_df(path_test,False)\n",
    "# df_subm=pd.read_csv(path_subm,index_col='id')"
   ]
  },
  {
   "cell_type": "code",
   "execution_count": null,
   "metadata": {},
   "outputs": [],
   "source": [
    "from tqdm import tqdm\n",
    "FOLDS=57\n",
    "\n",
    "RES=[]\n",
    "kfolds = KFold(n_splits=FOLDS)\n",
    "for i in tqdm(range(len(IDX_RRR))):\n",
    "    result={'recall':[],'cm':[]}\n",
    "    X_train,y_train=get_df(path_train,True,X_train_idx.iloc[IDX_].index[:i])\n",
    "    kfolds = KFold(n_splits=FOLDS)\n",
    "    splits = kfolds.split(X_train,y_train)   \n",
    "    for fld,(train_index, valid_index) in enumerate(splits): \n",
    "        \n",
    "\n",
    "        X_tr, X_val = X_train.values[train_index], X_train.values[valid_index]\n",
    "        y_tr, y_val = y_train[train_index], y_train[valid_index]    \n",
    "\n",
    "        train_pool = Pool(X_tr,y_tr)\n",
    "        validation_pool = Pool(X_val,y_val)\n",
    "        cb = catboost.CatBoostClassifier(**params_model)\n",
    "        cb.fit(train_pool);\n",
    "\n",
    "        y_val_pred=cb.predict(X_val)\n",
    "\n",
    "        recall=recall_score(y_true=y_val,y_pred=y_val_pred,average='macro')\n",
    "        cm=confusion_matrix(y_true=y_val,y_pred=y_val_pred)\n",
    "        result['recall'].append(recall)\n",
    "        result['cm'].append(cm)\n",
    "        \n",
    "   # avg_res.append([sum(result['recall'])/FOLDS,np.round(sum(result['cm'])/FOLDS,0)])\n",
    "   # print(i,sum(result['recall'])/FOLDS)\n",
    "    \n",
    "    RES.append([i,sum(result['recall'])/FOLDS,np.round(sum(result['cm'])/FOLDS,0)])"
   ]
  },
  {
   "cell_type": "code",
   "execution_count": null,
   "metadata": {},
   "outputs": [],
   "source": [
    "sorted(RES,key=lambda x:x[1],reverse=True)"
   ]
  },
  {
   "cell_type": "code",
   "execution_count": null,
   "metadata": {},
   "outputs": [],
   "source": []
  }
 ],
 "metadata": {
  "colab": {
   "provenance": []
  },
  "kernelspec": {
   "display_name": "Python 3 (ipykernel)",
   "language": "python",
   "name": "python3"
  },
  "language_info": {
   "codemirror_mode": {
    "name": "ipython",
    "version": 3
   },
   "file_extension": ".py",
   "mimetype": "text/x-python",
   "name": "python",
   "nbconvert_exporter": "python",
   "pygments_lexer": "ipython3",
   "version": "3.8.13"
  }
 },
 "nbformat": 4,
 "nbformat_minor": 1
}
