{
 "cells": [
  {
   "cell_type": "code",
   "execution_count": null,
   "id": "370d3429",
   "metadata": {},
   "outputs": [],
   "source": [
    "import datetime\n",
    "import gc\n",
    "import os\n",
    "import warnings\n",
    "warnings.filterwarnings(\"ignore\")\n",
    "import random\n",
    "from collections import defaultdict\n",
    "from tqdm import tqdm\n",
    "\n",
    "import catboost\n",
    "import matplotlib.pyplot as plt\n",
    "import numpy as np\n",
    "import pandas as pd\n",
    "import seaborn as sns\n",
    "from catboost import Pool, cv\n",
    "from imblearn.over_sampling import SMOTE\n",
    "from sklearn import preprocessing\n",
    "from sklearn.metrics import confusion_matrix, precision_score, recall_score\n",
    "from sklearn.model_selection import KFold, train_test_split\n",
    "from torch.utils.data import RandomSampler\n",
    "\n",
    "\n",
    "from dataclasses import dataclass\n",
    "\n",
    "from sklearn.model_selection import train_test_split\n",
    "from sklearn.preprocessing import StandardScaler\n",
    "\n",
    "\n",
    "%matplotlib inline\n",
    "path_dir=os.getcwd()\n",
    "path_train='../train_dataset_train.csv'\n",
    "path_test='./test_dataset_test.csv'\n",
    "path_subm='./Иннополис/sample_solution.csv'\n",
    "\n",
    "@dataclass\n",
    "class Config:\n",
    "    RS: int = 42\n",
    "    treshold: float = 0.0\n",
    "    device='cuda:0'\n",
    "    num_epochs: int = 120\n",
    "    batch_size: int = 256\n",
    "    num_workers: int = 2"
   ]
  },
  {
   "cell_type": "code",
   "execution_count": null,
   "id": "2363d3a4",
   "metadata": {},
   "outputs": [],
   "source": [
    "def get_df(path,train=True):\n",
    "    df=pd.read_csv(path)\n",
    "    df=df.sort_index(axis=1)\n",
    "    df.drop(['id','.geo','area'],axis=1,inplace=True)\n",
    "    if train:\n",
    "        df=df.loc[df.crop.isin([0,4])]\n",
    "        y=df[['crop']]\n",
    "        df.drop(['crop'],axis=1,inplace=True)  \n",
    "    \n",
    "    df.rename({c:pd.to_datetime(c.replace('nd_mean_','')) for c in df.columns},axis=1,inplace=True) \n",
    "    df[df<=0]=0    \n",
    "    return (df.reset_index(drop=True).values,y.crop.reset_index(drop=True).values) if train else df.reset_index(drop=True).values"
   ]
  },
  {
   "cell_type": "code",
   "execution_count": 3,
   "id": "6f4c53b3",
   "metadata": {},
   "outputs": [],
   "source": [
    "params_model={\n",
    "    #'auto_class_weights': 'Balanced',\n",
    "    #'loss_function':'MultiClass',\n",
    "   # 'boosting_type': 'Ordered',\n",
    "   # 'thread_count': -1,   \n",
    "    #'loss_function': 'MultiClassOneVsAll',\n",
    "    'loss_function':'Logloss',\n",
    "    'random_seed':42,\n",
    "    #'task_type':'GPU',\n",
    "    #'eval_metric': 'TotalF1:average=Macro',#'MCC',#PRAUC:type=OneVsAll;use_weights=True\n",
    "    'eval_metric':'Recall',\n",
    "    #'cat_features':list(df_train_cat),    \n",
    "    'bootstrap_type':'Bayesian',#'Bernoulli',#'Poisson',\n",
    "    #'subsample':0.44,  #  ?????????? TRY TO TUNE THIS\n",
    "    'l2_leaf_reg': 3,\n",
    "    'early_stopping_rounds':20,\n",
    "    'iterations':200,         \n",
    "     'verbose':20,\n",
    "    'depth': 5, 'learning_rate': 0.07,#####################################\n",
    " #'learning_rate':0.3,\n",
    "#'bagging_temperature':0,\n",
    " #'depth':7,\n",
    " #'save_snapshot':True,\n",
    " #'snapshot_file':os.path.join(path_chkpts,f'shapshot_more_rem{version}.bkp'),\n",
    " #'snapshot_interval':100,\n",
    " #'border_count':254,\n",
    " #'per_float_feature_quantization':'2:border_count=1024'\n",
    "\n",
    "}"
   ]
  },
  {
   "cell_type": "code",
   "execution_count": 4,
   "id": "2d244b57",
   "metadata": {},
   "outputs": [],
   "source": [
    "params_grid  = {\n",
    "          #'subsample':np.arange(0.4,0.54,0.02),\n",
    "          'learning_rate': [0.07,0.2,0.4],          \n",
    "          'depth':  [4,5,6,7,8],\n",
    "        }\n",
    "params_cv = {\n",
    "    #'X':df_train_rolling,\n",
    "#     'X':X_train,#df_train.ewm(alpha=0.3,axis=0).mean(),\n",
    "#     'y':y_train,\n",
    "    'cv':5,\n",
    "    'shuffle':True,\n",
    "    'stratified':True,\n",
    "    #'return_models':True,\n",
    "}\n",
    "#grid_search_catbost=model_catboost.randomized_search(param_distributions=params_grid,**params_cv)"
   ]
  },
  {
   "cell_type": "code",
   "execution_count": 5,
   "id": "f373d997",
   "metadata": {},
   "outputs": [
    {
     "name": "stdout",
     "output_type": "stream",
     "text": [
      "0:\tlearn: 0.8661017\ttotal: 142ms\tremaining: 28.2s\n",
      "20:\tlearn: 0.9644068\ttotal: 197ms\tremaining: 1.68s\n",
      "40:\tlearn: 0.9627119\ttotal: 265ms\tremaining: 1.03s\n",
      "60:\tlearn: 0.9711864\ttotal: 320ms\tremaining: 728ms\n",
      "80:\tlearn: 0.9830508\ttotal: 376ms\tremaining: 553ms\n",
      "100:\tlearn: 0.9932203\ttotal: 429ms\tremaining: 421ms\n",
      "120:\tlearn: 0.9949153\ttotal: 486ms\tremaining: 318ms\n",
      "140:\tlearn: 0.9983051\ttotal: 560ms\tremaining: 235ms\n",
      "160:\tlearn: 1.0000000\ttotal: 619ms\tremaining: 150ms\n",
      "180:\tlearn: 1.0000000\ttotal: 678ms\tremaining: 71.1ms\n",
      "199:\tlearn: 1.0000000\ttotal: 731ms\tremaining: 0us\n"
     ]
    }
   ],
   "source": [
    "def seed_everything(seed=42):\n",
    "    random.seed(seed)    \n",
    "    np.random.seed(seed)\n",
    "seed_everything()\n",
    "\n",
    "\n",
    "\n",
    "X_train,y_train=get_df(path_train)\n",
    "#columns=X_train.columns\n",
    "FOLDS=5\n",
    "kfolds = KFold(n_splits=FOLDS)\n",
    "\n",
    "result={'recall':[],'cm':[],'epochs_loss':[]}\n",
    "\n",
    "splits = kfolds.split(X_train,y_train)    \n",
    "for train_index, valid_index in splits:    \n",
    "    X_tr, X_val = X_train[train_index], X_train[valid_index]\n",
    "    y_tr, y_val = y_train[train_index], y_train[valid_index]    \n",
    "\n",
    "    train_pool = Pool(X_tr, y_tr)\n",
    "    val_pool = Pool(X_val, y_val)\n",
    "\n",
    "    model=catboost.CatBoostClassifier(**params_model)\n",
    "    model.fit(train_pool)\n",
    "\n",
    "    indices, scores = model.get_object_importance(\n",
    "        val_pool,\n",
    "        train_pool,\n",
    "        importance_values_sign='Positive' # Negative, All\n",
    "    )\n",
    "\n",
    "#         labels,counts=np.unique(y_tr, return_counts=True)\n",
    "#         _max=np.max(counts)*2\n",
    "#         sampling_strategy={label:_max  for label in labels }#if label==0 else int(_max+_max*0.4)\n",
    "#         smote = SMOTE(random_state=42, sampling_strategy=sampling_strategy, n_jobs=-1)  \n",
    "#         X_tr, y_tr = smote.fit_resample(X_tr, y_tr)\n",
    "\n",
    "    y_val_pred = model.predict(X_val)\n",
    "    recall=recall_score(y_true=y_val,y_pred=y_val_pred,average='macro')\n",
    "    cm=confusion_matrix(y_true=y_val,y_pred=y_val_pred)\n",
    "    result['recall'].append(recall)\n",
    "    result['cm'].append(cm)\n",
    "    break\n",
    "    "
   ]
  },
  {
   "cell_type": "code",
   "execution_count": 6,
   "id": "beef1787",
   "metadata": {},
   "outputs": [
    {
     "data": {
      "text/plain": [
       "{'recall': [0.9477144798136645],\n",
       " 'cm': [array([[158,   3],\n",
       "         [ 11, 117]], dtype=int64)],\n",
       " 'epochs_loss': []}"
      ]
     },
     "execution_count": 6,
     "metadata": {},
     "output_type": "execute_result"
    }
   ],
   "source": [
    "result"
   ]
  },
  {
   "cell_type": "code",
   "execution_count": 7,
   "id": "9487ca60",
   "metadata": {},
   "outputs": [],
   "source": [
    "res=pd.DataFrame({\n",
    "    'indices':indices,\n",
    "    'scores':scores,\n",
    "})"
   ]
  },
  {
   "cell_type": "code",
   "execution_count": 8,
   "id": "e00723d6",
   "metadata": {},
   "outputs": [
    {
     "data": {
      "text/plain": [
       "<AxesSubplot: >"
      ]
     },
     "execution_count": 8,
     "metadata": {},
     "output_type": "execute_result"
    },
    {
     "data": {
      "image/png": "[encoded data removed]",
      "text/plain": [
       "<Figure size 640x480 with 1 Axes>"
      ]
     },
     "metadata": {},
     "output_type": "display_data"
    }
   ],
   "source": [
    "res.scores.plot()"
   ]
  },
  {
   "cell_type": "code",
   "execution_count": 9,
   "id": "72b35c62",
   "metadata": {},
   "outputs": [
    {
     "data": {
      "text/html": [
       "<div>\n",
       "<style scoped>\n",
       "    .dataframe tbody tr th:only-of-type {\n",
       "        vertical-align: middle;\n",
       "    }\n",
       "\n",
       "    .dataframe tbody tr th {\n",
       "        vertical-align: top;\n",
       "    }\n",
       "\n",
       "    .dataframe thead th {\n",
       "        text-align: right;\n",
       "    }\n",
       "</style>\n",
       "<table border=\"1\" class=\"dataframe\">\n",
       "  <thead>\n",
       "    <tr style=\"text-align: right;\">\n",
       "      <th></th>\n",
       "      <th>indices</th>\n",
       "      <th>scores</th>\n",
       "    </tr>\n",
       "  </thead>\n",
       "  <tbody>\n",
       "    <tr>\n",
       "      <th>553</th>\n",
       "      <td>1087</td>\n",
       "      <td>0.000013</td>\n",
       "    </tr>\n",
       "    <tr>\n",
       "      <th>554</th>\n",
       "      <td>441</td>\n",
       "      <td>0.000013</td>\n",
       "    </tr>\n",
       "    <tr>\n",
       "      <th>555</th>\n",
       "      <td>754</td>\n",
       "      <td>0.000012</td>\n",
       "    </tr>\n",
       "    <tr>\n",
       "      <th>556</th>\n",
       "      <td>852</td>\n",
       "      <td>0.000012</td>\n",
       "    </tr>\n",
       "    <tr>\n",
       "      <th>557</th>\n",
       "      <td>900</td>\n",
       "      <td>0.000011</td>\n",
       "    </tr>\n",
       "    <tr>\n",
       "      <th>558</th>\n",
       "      <td>561</td>\n",
       "      <td>0.000011</td>\n",
       "    </tr>\n",
       "    <tr>\n",
       "      <th>559</th>\n",
       "      <td>932</td>\n",
       "      <td>0.000009</td>\n",
       "    </tr>\n",
       "    <tr>\n",
       "      <th>560</th>\n",
       "      <td>663</td>\n",
       "      <td>0.000009</td>\n",
       "    </tr>\n",
       "    <tr>\n",
       "      <th>561</th>\n",
       "      <td>781</td>\n",
       "      <td>0.000008</td>\n",
       "    </tr>\n",
       "    <tr>\n",
       "      <th>562</th>\n",
       "      <td>460</td>\n",
       "      <td>0.000008</td>\n",
       "    </tr>\n",
       "  </tbody>\n",
       "</table>\n",
       "</div>"
      ],
      "text/plain": [
       "     indices    scores\n",
       "553     1087  0.000013\n",
       "554      441  0.000013\n",
       "555      754  0.000012\n",
       "556      852  0.000012\n",
       "557      900  0.000011\n",
       "558      561  0.000011\n",
       "559      932  0.000009\n",
       "560      663  0.000009\n",
       "561      781  0.000008\n",
       "562      460  0.000008"
      ]
     },
     "execution_count": 9,
     "metadata": {},
     "output_type": "execute_result"
    }
   ],
   "source": [
    "res.tail(10)"
   ]
  },
  {
   "cell_type": "code",
   "execution_count": 10,
   "id": "5a9aba24",
   "metadata": {},
   "outputs": [
    {
     "ename": "AttributeError",
     "evalue": "'list' object has no attribute 'shape'",
     "output_type": "error",
     "traceback": [
      "\u001b[1;31m---------------------------------------------------------------------------\u001b[0m",
      "\u001b[1;31mAttributeError\u001b[0m                            Traceback (most recent call last)",
      "Input \u001b[1;32mIn [10]\u001b[0m, in \u001b[0;36m<cell line: 1>\u001b[1;34m()\u001b[0m\n\u001b[1;32m----> 1\u001b[0m \u001b[43mindices\u001b[49m\u001b[38;5;241;43m.\u001b[39;49m\u001b[43mshape\u001b[49m\n",
      "\u001b[1;31mAttributeError\u001b[0m: 'list' object has no attribute 'shape'"
     ]
    }
   ],
   "source": [
    "indices.shape"
   ]
  },
  {
   "cell_type": "code",
   "execution_count": null,
   "id": "69317c88",
   "metadata": {},
   "outputs": [],
   "source": []
  }
 ],
 "metadata": {
  "kernelspec": {
   "display_name": "Python 3 (ipykernel)",
   "language": "python",
   "name": "python3"
  },
  "language_info": {
   "codemirror_mode": {
    "name": "ipython",
    "version": 3
   },
   "file_extension": ".py",
   "mimetype": "text/x-python",
   "name": "python",
   "nbconvert_exporter": "python",
   "pygments_lexer": "ipython3",
   "version": "3.8.13"
  }
 },
 "nbformat": 4,
 "nbformat_minor": 5
}
